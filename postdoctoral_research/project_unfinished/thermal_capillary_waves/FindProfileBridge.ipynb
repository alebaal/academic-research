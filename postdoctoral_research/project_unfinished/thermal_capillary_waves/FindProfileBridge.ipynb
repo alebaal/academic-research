{
 "cells": [
  {
   "cell_type": "code",
   "execution_count": 1,
   "metadata": {},
   "outputs": [],
   "source": [
    "import numpy as np\n",
    "import math\n",
    "import matplotlib.pyplot as plt\n",
    "import matplotlib\n",
    "import glob\n",
    "import math\n",
    "import csv\n",
    "from mpl_toolkits.mplot3d import Axes3D\n",
    "import pandas as pd\n",
    "from numpy.linalg import eig, inv\n",
    "from scipy.spatial import ConvexHull\n",
    "%matplotlib inline\n"
   ]
  },
  {
   "cell_type": "code",
   "execution_count": 2,
   "metadata": {},
   "outputs": [],
   "source": [
    "def fitEllipse(x,y):\n",
    "    x = x[:,np.newaxis]\n",
    "    y = y[:,np.newaxis]\n",
    "    D =  np.hstack((x*x, x*y, y*y, x, y, np.ones_like(x)))\n",
    "    S = np.dot(D.T,D)\n",
    "    C = np.zeros([6,6])\n",
    "    C[0,2] = C[2,0] = 2; C[1,1] = -1\n",
    "    E, V =  eig(np.dot(inv(S), C))\n",
    "    n = np.argmax(np.abs(E))\n",
    "    a = V[:,n]\n",
    "    return a\n",
    "\n",
    "def ellipse_center(a):\n",
    "    b,c,d,f,g,a = a[1]/2, a[2], a[3]/2, a[4]/2, a[5], a[0]\n",
    "    num = b*b-a*c\n",
    "    x0=(c*d-b*f)/num\n",
    "    y0=(a*f-b*d)/num\n",
    "    return np.array([x0,y0])\n",
    "\n",
    "\n",
    "def ellipse_angle_of_rotation( a ):\n",
    "    b,c,d,f,g,a = a[1]/2, a[2], a[3]/2, a[4]/2, a[5], a[0]\n",
    "    return 0.5*np.arctan(2*b/(a-c))\n",
    "\n",
    "\n",
    "def ellipse_axis_length( a ):\n",
    "    b,c,d,f,g,a = a[1]/2, a[2], a[3]/2, a[4]/2, a[5], a[0]\n",
    "    up = 2*(a*f*f+c*d*d+g*b*b-2*b*d*f-a*c*g)\n",
    "    down1=(b*b-a*c)*( (c-a)*np.sqrt(1+4*b*b/((a-c)*(a-c)))-(c+a))\n",
    "    down2=(b*b-a*c)*( (a-c)*np.sqrt(1+4*b*b/((a-c)*(a-c)))-(c+a))\n",
    "    res1=np.sqrt(up/down1)\n",
    "    res2=np.sqrt(up/down2)\n",
    "    return np.array([res1, res2])\n",
    "\n",
    "def ellipse_angle_of_rotation2( a ):\n",
    "    b,c,d,f,g,a = a[1]/2, a[2], a[3]/2, a[4]/2, a[5], a[0]\n",
    "    if b == 0:\n",
    "        if a > c:\n",
    "            return 0\n",
    "        else:\n",
    "            return np.pi/2\n",
    "    else:\n",
    "        if a > c:\n",
    "            return np.arctan(2*b/(a-c))/2\n",
    "        else:\n",
    "            return np.pi/2 + np.arctan(2*b/(a-c))/2"
   ]
  },
  {
   "cell_type": "code",
   "execution_count": 3,
   "metadata": {},
   "outputs": [],
   "source": [
    "#Variables definitions\n",
    "#total Water molecules\n",
    "N = 3375\n",
    "#height\n",
    "h = 50.0\n",
    "#Simulation Box\n",
    "L = 277.2\n",
    "#Slab thickness\n",
    "S = 1\n",
    "#water density box\n",
    "rho = np.zeros((int(h/S), int(L/S), int(L/S)))"
   ]
  },
  {
   "cell_type": "code",
   "execution_count": 4,
   "metadata": {},
   "outputs": [
    {
     "ename": "SyntaxError",
     "evalue": "unexpected EOF while parsing (<ipython-input-4-597895af0ee0>, line 6)",
     "output_type": "error",
     "traceback": [
      "\u001b[0;36m  File \u001b[0;32m\"<ipython-input-4-597895af0ee0>\"\u001b[0;36m, line \u001b[0;32m6\u001b[0m\n\u001b[0;31m    \u001b[0m\n\u001b[0m    ^\u001b[0m\n\u001b[0;31mSyntaxError\u001b[0m\u001b[0;31m:\u001b[0m unexpected EOF while parsing\n"
     ]
    }
   ],
   "source": [
    "#Loop to read configurations\n",
    "for fileConfig in sorted(glob.glob(\"./hfobic/*gz\")):\n",
    "        \n",
    "\n",
    "\n",
    "\n"
   ]
  },
  {
   "cell_type": "code",
   "execution_count": 5,
   "metadata": {},
   "outputs": [],
   "source": [
    "#for i in sorted(glob.glob(\"./hfobic/\" + \"*.pos\"), key = lambda strFile: float(strFile[strFile.index(\"c/\")+2:strFile.index(\".pos\")])):\n",
    "a = np.genfromtxt(\"./hfobic/0.pos\",dtype=\"float\",skip_header=9)\n",
    "#gets the Oxigen positions\n",
    "Oatoms = a[np.where(a[:,1]==2)][:,2:] "
   ]
  },
  {
   "cell_type": "code",
   "execution_count": 6,
   "metadata": {},
   "outputs": [],
   "source": [
    "#Fix the boarder problem and calculate the CM\n",
    "CM = np.sum(Oatoms, axis=0)/N\n",
    "\n",
    "Oatoms[:,1:] -= CM[1:]\n",
    "\n",
    "Oatoms_out_index  = np.where(abs(Oatoms[:,1]) > L/2)\n",
    "Oatoms_out_index2 = np.where(Oatoms[Oatoms_out_index] > 0)\n",
    "Oatoms[Oatoms_out_index2] -= L \n",
    "Oatoms_out_index3 = np.where(Oatoms[Oatoms_out_index] < 0)\n",
    "Oatoms[Oatoms_out_index3] += L \n",
    "\n",
    "Oatoms_out_index  = np.where(abs(Oatoms[:,2]) > L/2)\n",
    "Oatoms_out_index2 = np.where(Oatoms[Oatoms_out_index] > 0)\n",
    "Oatoms[Oatoms_out_index2] -= L \n",
    "Oatoms_out_index3 = np.where(Oatoms[Oatoms_out_index] < 0)\n",
    "Oatoms[Oatoms_out_index3] += L \n",
    "\n",
    "Oatoms[:,1:] += CM[1:]\n",
    "CM = np.sum(Oatoms, axis = 0)/N\n",
    "\n"
   ]
  },
  {
   "cell_type": "code",
   "execution_count": 7,
   "metadata": {},
   "outputs": [],
   "source": [
    "#Remove water molecules out from bridge\n",
    "rC = 45.0\n",
    "mask = np.sqrt(np.sum(Oatoms[:, 1:]**2, axis=1)) > rC\n",
    "Oatoms = Oatoms[~mask]\n"
   ]
  },
  {
   "cell_type": "code",
   "execution_count": 8,
   "metadata": {},
   "outputs": [],
   "source": [
    "#get atoms position from histogram\n",
    "hist_count, bins_edges = np.histogramdd(Oatoms, bins =(int(h/S), int(L/S), int(L/S)), range = ((-h/2,h/2), (-L/2,L/2), (-L/2,L/2)))\n",
    "bins_posY = (bins_edges[1][1:] - bins_edges[1][:-1])/2 + bins_edges[1][:-1]\n",
    "bins_posZ = (bins_edges[2][1:] - bins_edges[2][:-1])/2 + bins_edges[2][:-1]\n",
    "grid = []\n",
    "for y in bins_posY:\n",
    "    temp = []\n",
    "    for z in bins_posZ:\n",
    "        temp.append([y,z])\n",
    "    grid.append(temp)\n",
    "grid = np.array(grid)        \n",
    "        "
   ]
  },
  {
   "cell_type": "code",
   "execution_count": 9,
   "metadata": {},
   "outputs": [],
   "source": [
    "#Loop: 1) Colappse the O atoms inside 5A slabes into a plane, which is a cross section of the bridge\n",
    "\n",
    "fitEllipseProfile = []\n",
    "pointsProfile = []\n",
    "hullData = []\n",
    "nSlabs = 5\n",
    "for i in range(0,len(hist_count), nSlabs):\n",
    "    points_cross_section = np.sum(hist_count[i:i+nSlabs], axis=0)\n",
    "    mask = points_cross_section > 0    \n",
    "    px, py =  np.split(grid[mask], 2, axis = 1)\n",
    "    px = px.flatten()\n",
    "    py = py.flatten()\n",
    "    pointsCH = np.stack((px,py), axis=-1)\n",
    "    pointsProfile.append(pointsCH)\n",
    "    #find the board\n",
    "    hull = ConvexHull(pointsCH, qhull_options='Qi')\n",
    "    hullData.append(hull)\n",
    "    #fitting the ellipse\n",
    "    fitting = fitEllipse(pointsCH[hull.vertices][:,0], pointsCH[hull.vertices][:,1])\n",
    "    fitEllipseProfile.append(fitting)\n"
   ]
  },
  {
   "cell_type": "code",
   "execution_count": 18,
   "metadata": {},
   "outputs": [
    {
     "data": {
      "image/png": "[encoded data removed]",
      "text/plain": [
       "<Figure size 720x720 with 1 Axes>"
      ]
     },
     "metadata": {
      "needs_background": "light"
     },
     "output_type": "display_data"
    }
   ],
   "source": [
    "cmap = matplotlib.cm.get_cmap('hsv')\n",
    "plt.figure(figsize=(10,10))\n",
    "plt.ylim(-50,50)\n",
    "plt.xlim(-50,50)\n",
    "\n",
    "#for i in range(len(fitEllipseProfile) ):\n",
    "for i in [7]:\n",
    "    arc = 2\n",
    "    R = np.arange(0,arc*np.pi, 0.01)\n",
    "    center = ellipse_center(fitEllipseProfile[i])\n",
    "    phi = ellipse_angle_of_rotation2(fitEllipseProfile[i])\n",
    "    axes = ellipse_axis_length(fitEllipseProfile[i])\n",
    "\n",
    "    a, b = axes\n",
    "    xx = center[0] + a*np.cos(R)*np.cos(phi) - b*np.sin(R)*np.sin(phi)\n",
    "    yy = center[1] + a*np.cos(R)*np.sin(phi) + b*np.sin(R)*np.cos(phi)\n",
    "    \n",
    "    plt.scatter(pointsProfile[i][:, 0], pointsProfile[i][:, 1],  color='grey', s=10, marker='o')\n",
    "    plt.scatter(pointsProfile[i][hullData[i].vertices, 0], pointsProfile[i][hullData[i].vertices, 1],  color='b', s=20, marker='o')\n",
    "    \n",
    "    #plt.plot(pointsCH[hull.vertices[0],0], pointsCH[hull.vertices[0],1], 'ro')\n",
    "    plt.plot(xx,yy, color = cmap(i/10), label = 'slab %d' % (i))\n",
    "plt.legend()    \n",
    "plt.savefig('./find_ellipse_All_profile2.png')\n"
   ]
  },
  {
   "cell_type": "code",
   "execution_count": null,
   "metadata": {},
   "outputs": [],
   "source": []
  }
 ],
 "metadata": {
  "kernelspec": {
   "display_name": "Python 3",
   "language": "python",
   "name": "python3"
  },
  "language_info": {
   "codemirror_mode": {
    "name": "ipython",
    "version": 3
   },
   "file_extension": ".py",
   "mimetype": "text/x-python",
   "name": "python",
   "nbconvert_exporter": "python",
   "pygments_lexer": "ipython3",
   "version": "3.6.7"
  }
 },
 "nbformat": 4,
 "nbformat_minor": 4
}

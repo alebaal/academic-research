{
 "cells": [
  {
   "cell_type": "code",
   "execution_count": 1,
   "metadata": {},
   "outputs": [],
   "source": [
    "import numpy as np\n",
    "import networkx as nx\n",
    "import math\n",
    "import matplotlib.pyplot as plt\n",
    "import glob\n",
    "import math\n",
    "import csv\n",
    "import pandas as pd\n",
    "from __future__ import division\n",
    "%matplotlib inline\n",
    "import random\n",
    "import itertools as it\n",
    "import multiprocessing as mp"
   ]
  },
  {
   "cell_type": "code",
   "execution_count": 2,
   "metadata": {},
   "outputs": [],
   "source": [
    "def sinRough (y, ny, alpha, delta):\n",
    "    return (BoxMaxX - alpha*(BoxMaxX - BoxErode)/2) + alpha*((BoxMaxX - BoxErode)/2)*np.sin(2*np.pi*ny*(y - delta)/L )"
   ]
  },
  {
   "cell_type": "markdown",
   "metadata": {},
   "source": [
    "# Read Files"
   ]
  },
  {
   "cell_type": "code",
   "execution_count": 3,
   "metadata": {},
   "outputs": [],
   "source": [
    "config = np.loadtxt(\"./wall1newThickDone.dat\")\n",
    "config2 = np.loadtxt(\"./wall1newThickDone.dat\")\n",
    "configWater = np.loadtxt(\"./createConfigFlat/droplet_without_wall_config_sorted_7col_fixCol1.dat\")"
   ]
  },
  {
   "cell_type": "markdown",
   "metadata": {},
   "source": [
    "# Definitions"
   ]
  },
  {
   "cell_type": "code",
   "execution_count": 4,
   "metadata": {},
   "outputs": [
    {
     "name": "stdout",
     "output_type": "stream",
     "text": [
      "68.07903\n"
     ]
    }
   ],
   "source": [
    "#wall definitions\n",
    "WallLayer = 8.0828\n",
    "\n",
    "WallMaxX = max(config[:,4])\n",
    "WallMinX = min(config[:,4])\n",
    "WallMaxY = max(config[:,5])\n",
    "WallMinY = min(config[:,5])\n",
    "WallMaxZ = max(config[:,6])\n",
    "WallMinZ = min(config[:,6])\n",
    "WallErode = WallMaxX - 2*WallLayer\n",
    "L = 34.029510 +34.029510\n",
    "\n",
    "WallDx = WallMaxX - WallMinX\n",
    "WallDy = WallMaxY - WallMinY\n",
    "WallDz = WallMaxZ - WallMinZ\n",
    "#Box definitions\n",
    "eps = 0.02\n",
    "BoxMaxX = WallMaxX + eps\n",
    "BoxMinX = WallMinX - eps\n",
    "BoxMaxY = WallMaxY + eps\n",
    "BoxMinY = WallMinY - eps\n",
    "BoxMaxZ = WallMaxZ + eps\n",
    "BoxMinZ = WallMinZ - eps\n",
    "BoxErode = WallErode - eps\n",
    "print(BoxMaxY)\n",
    "\n",
    "BoxDx = BoxMaxX - BoxMinX\n",
    "BoxDy = BoxMaxY - BoxMinY\n",
    "BoxDz = BoxMaxZ - BoxMinZ\n",
    "\n",
    "\n",
    "#New Simulation Box\n",
    "\n",
    "\n",
    "WaterMaxX = max(configWater[:,4])\n",
    "WaterMinX = min(configWater[:,4])\n",
    "WaterMaxY = max(configWater[:,5])\n",
    "WaterMinY = min(configWater[:,5])\n",
    "WaterMaxZ = max(configWater[:,6])\n",
    "WaterMinZ = min(configWater[:,6])"
   ]
  },
  {
   "cell_type": "code",
   "execution_count": 5,
   "metadata": {},
   "outputs": [
    {
     "data": {
      "text/plain": [
       "-58.08780828627713"
      ]
     },
     "execution_count": 5,
     "metadata": {},
     "output_type": "execute_result"
    }
   ],
   "source": [
    "WaterMinX"
   ]
  },
  {
   "cell_type": "markdown",
   "metadata": {},
   "source": [
    "# Configuration wall flat "
   ]
  },
  {
   "cell_type": "code",
   "execution_count": 6,
   "metadata": {},
   "outputs": [],
   "source": [
    "# newConfigWall = []\n",
    "# newIndex = 1\n",
    "# for i in config:\n",
    "#     x = i[4]\n",
    "#     y = i[5]\n",
    "#     z = i[6]\n",
    "#     if( (y > WallMinY - eps) and ( z > WallMinZ - eps)):\n",
    "#         if((y < 0) and (z < 0)):    \n",
    "#             i[0] = newIndex\n",
    "#             i[5] = i[5] + abs(WallMinY/2) \n",
    "#             i[6] = i[6] + abs(WallMinZ/2) \n",
    "#             newConfigWall.append(list(i))\n",
    "#             newIndex +=1\n",
    "#         else:\n",
    "#             continue\n",
    "#     else:\n",
    "#         continue    \n",
    "# totNewWallAtoms = len(newConfigWall)\n",
    "# #New simulation box\n",
    "# Lnx = 70\n",
    "# Lny = max(np.array(newConfigWall)[:,5]) - min(np.array(newConfigWall)[:,5])\n",
    "# Lnz = max(np.array(newConfigWall)[:,6]) - min(np.array(newConfigWall)[:,6])\n",
    "# print(Lnx, Lny, Lnz)\n",
    "CONFIGWALL = []\n",
    "newIndex = 1\n",
    "for i in config2:\n",
    "    x = i[4]\n",
    "    y = i[5]\n",
    "    z = i[6]\n",
    "    if( (y > WallMinY - eps) and ( z > WallMinZ - eps)):\n",
    "        if((y < 0) and (z < 0)):    \n",
    "            i[0] = newIndex\n",
    "            i[5] = i[5] + abs(WallMinY/2) \n",
    "            i[6] = i[6] + abs(WallMinZ/2) \n",
    "            CONFIGWALL.append(list(i))\n",
    "            newIndex +=1\n",
    "        else:\n",
    "            continue\n",
    "    else:\n",
    "        continue    \n",
    "totCONFIGWALL = len(CONFIGWALL)\n"
   ]
  },
  {
   "cell_type": "code",
   "execution_count": null,
   "metadata": {},
   "outputs": [],
   "source": []
  },
  {
   "cell_type": "markdown",
   "metadata": {},
   "source": [
    "# Configuration Rough sin Wall"
   ]
  },
  {
   "cell_type": "code",
   "execution_count": 7,
   "metadata": {},
   "outputs": [
    {
     "data": {
      "image/png": "[encoded data removed]",
      "text/plain": [
       "<Figure size 720x720 with 1 Axes>"
      ]
     },
     "metadata": {
      "needs_background": "light"
     },
     "output_type": "display_data"
    }
   ],
   "source": [
    "alpha =0.5\n",
    "nz = ny = 4\n",
    "delta = 3.75\n",
    "x=np.arange(-L/2,L/2, 0.01)\n",
    "y=sinRough(x, ny, alpha, delta)\n",
    "plt.figure(figsize=(10,10))\n",
    "plt.plot(x, y , '--r', label = 'roughnness')\n",
    "plt.plot(x, np.asarray([   WallMaxX       for i in range(len(x))]), 'k', label = 'top wall')\n",
    "plt.plot(x, np.asarray([   WallMinX    for i in range(len(x))]), 'k', label = 'bottom wall')\n",
    "plt.plot(x, np.asarray([BoxErode for i in range(len(x))]), 'k-.', label = 'limit layer rough')\n",
    "plt.ylim(-70,70)\n",
    "plt.xlim(-L/2,L/2)\n",
    "plt.legend()\n",
    "plt.tight_layout()"
   ]
  },
  {
   "cell_type": "code",
   "execution_count": 8,
   "metadata": {},
   "outputs": [
    {
     "name": "stdout",
     "output_type": "stream",
     "text": [
      "70 68.05902 68.57812\n"
     ]
    }
   ],
   "source": [
    "newConfigWall = []\n",
    "newIndex = 1\n",
    "for i in config:\n",
    "    x = i[4]\n",
    "    y = i[5]\n",
    "    z = i[6]\n",
    "    if( (y > WallMinY - eps) and ( z > WallMinZ - eps)):\n",
    "        #if((y < -1.24) and (z < -0.722)):\n",
    "        if((y < 0) and (z < 0)):\n",
    "            if(x < sinRough(y, ny, alpha, delta)):\n",
    "                i[0] = newIndex\n",
    "                i[5] = i[5] + abs(WallMinY/2) \n",
    "                i[6] = i[6] + abs(WallMinZ/2) \n",
    "                newConfigWall.append(list(i))\n",
    "                newIndex +=1\n",
    "            else:\n",
    "                continue\n",
    "        else:\n",
    "            continue\n",
    "    else:\n",
    "        continue    \n",
    "totNewWallAtoms = len(newConfigWall)\n",
    "#New simulation box\n",
    "Lnx = 70\n",
    "Lny = max(np.array(newConfigWall)[:,5]) - min(np.array(newConfigWall)[:,5])\n",
    "Lnz = max(np.array(newConfigWall)[:,6]) - min(np.array(newConfigWall)[:,6])\n",
    "print(Lnx, Lny, Lnz)"
   ]
  },
  {
   "cell_type": "markdown",
   "metadata": {},
   "source": [
    "# Water config"
   ]
  },
  {
   "cell_type": "code",
   "execution_count": 9,
   "metadata": {},
   "outputs": [
    {
     "data": {
      "text/plain": [
       "6824"
      ]
     },
     "execution_count": 9,
     "metadata": {},
     "output_type": "execute_result"
    }
   ],
   "source": [
    "len(newConfigWall)"
   ]
  },
  {
   "cell_type": "code",
   "execution_count": 10,
   "metadata": {},
   "outputs": [
    {
     "data": {
      "text/plain": [
       "array([[ 1.00000000e+00,  1.16490000e+04,  1.00000000e+00,\n",
       "         4.23800000e-01, -5.40939046e+01,  1.64153674e+01,\n",
       "        -2.29670805e+01],\n",
       "       [ 2.00000000e+00,  1.16490000e+04,  2.00000000e+00,\n",
       "        -8.47600000e-01, -5.31211375e+01,  1.66193667e+01,\n",
       "        -2.28570361e+01],\n",
       "       [ 3.00000000e+00,  1.16490000e+04,  1.00000000e+00,\n",
       "         4.23800000e-01, -5.29283229e+01,  1.75304155e+01,\n",
       "        -2.32214707e+01]])"
      ]
     },
     "execution_count": 10,
     "metadata": {},
     "output_type": "execute_result"
    }
   ],
   "source": [
    "configWater[:3]"
   ]
  },
  {
   "cell_type": "code",
   "execution_count": 11,
   "metadata": {},
   "outputs": [],
   "source": [
    "configO  = []\n",
    "configH1 = []\n",
    "configH2 = []\n",
    "for i in list(range(0,len(configWater),3)):\n",
    "    configH1.append(list(configWater[i]))\n",
    "    configO.append(list(configWater[i+1]))\n",
    "    configH2.append(list(configWater[i+2]))\n"
   ]
  },
  {
   "cell_type": "code",
   "execution_count": 12,
   "metadata": {},
   "outputs": [
    {
     "data": {
      "text/plain": [
       "[[2.0,\n",
       "  11649.0,\n",
       "  2.0,\n",
       "  -0.8476,\n",
       "  -53.1211374550065,\n",
       "  16.619366655222333,\n",
       "  -22.857036140383283],\n",
       " [5.0,\n",
       "  11650.0,\n",
       "  2.0,\n",
       "  -0.8476,\n",
       "  -15.753603246001418,\n",
       "  -5.973387154626275,\n",
       "  -13.957703516537174],\n",
       " [8.0,\n",
       "  11651.0,\n",
       "  2.0,\n",
       "  -0.8476,\n",
       "  -54.30412753289187,\n",
       "  8.01490945306157,\n",
       "  -15.518945854016964]]"
      ]
     },
     "execution_count": 12,
     "metadata": {},
     "output_type": "execute_result"
    }
   ],
   "source": [
    "configO[:3]"
   ]
  },
  {
   "cell_type": "code",
   "execution_count": 13,
   "metadata": {},
   "outputs": [
    {
     "data": {
      "text/plain": [
       "[[1.0,\n",
       "  11649.0,\n",
       "  1.0,\n",
       "  0.4238,\n",
       "  -54.09390458547503,\n",
       "  16.415367433633303,\n",
       "  -22.967080487709083],\n",
       " [4.0,\n",
       "  11650.0,\n",
       "  1.0,\n",
       "  0.4238,\n",
       "  -16.169603880599205,\n",
       "  -6.881963697150912,\n",
       "  -13.995547182122193],\n",
       " [7.0,\n",
       "  11651.0,\n",
       "  1.0,\n",
       "  0.4238,\n",
       "  -53.50817136105885,\n",
       "  7.563377026773307,\n",
       "  -15.922148796104443]]"
      ]
     },
     "execution_count": 13,
     "metadata": {},
     "output_type": "execute_result"
    }
   ],
   "source": [
    "configH1[:3]"
   ]
  },
  {
   "cell_type": "code",
   "execution_count": 14,
   "metadata": {},
   "outputs": [
    {
     "data": {
      "text/plain": [
       "[[3.0,\n",
       "  11649.0,\n",
       "  1.0,\n",
       "  0.4238,\n",
       "  -52.92832287453134,\n",
       "  17.530415510626934,\n",
       "  -23.221470740064508],\n",
       " [6.0,\n",
       "  11650.0,\n",
       "  1.0,\n",
       "  0.4238,\n",
       "  -16.46021038367019,\n",
       "  -5.290771633446019,\n",
       "  -13.771310277073326],\n",
       " [9.0,\n",
       "  11651.0,\n",
       "  1.0,\n",
       "  0.4238,\n",
       "  -54.02075063677572,\n",
       "  8.53062840698031,\n",
       "  -14.71040877065987]]"
      ]
     },
     "execution_count": 14,
     "metadata": {},
     "output_type": "execute_result"
    }
   ],
   "source": [
    "configH2[:3]"
   ]
  },
  {
   "cell_type": "code",
   "execution_count": 15,
   "metadata": {},
   "outputs": [],
   "source": [
    "newConfigWater = []\n",
    "indexAtomWater = totNewWallAtoms + 1\n",
    "indexMolWater = 2\n",
    "for i in list(range(len(configO))):\n",
    "                           #atom index    mol index      type           charge     posx       posy       posz                         \n",
    "    newConfigWater.append([indexAtomWater,indexMolWater, configO[i][2], configO[i][3],   configO[i][4] + abs(WaterMinX) + WallMaxX + 3,  configO[i][5],  configO[i][6]])\n",
    "    indexAtomWater+=1 \n",
    "    newConfigWater.append([indexAtomWater,indexMolWater,configH1[i][2], configH1[i][3], configH1[i][4] + abs(WaterMinX) + WallMaxX + 3, configH1[i][5], configH1[i][6]])\n",
    "    indexAtomWater+=1\n",
    "    newConfigWater.append([indexAtomWater,indexMolWater,configH2[i][2], configH2[i][3], configH2[i][4] + abs(WaterMinX) + WallMaxX + 3, configH2[i][5], configH2[i][6]])\n",
    "    indexAtomWater+=1\n",
    "    indexMolWater +=1\n"
   ]
  },
  {
   "cell_type": "code",
   "execution_count": 16,
   "metadata": {},
   "outputs": [
    {
     "data": {
      "text/plain": [
       "[[6825,\n",
       "  2,\n",
       "  2.0,\n",
       "  -0.8476,\n",
       "  -17.033329168729367,\n",
       "  16.619366655222333,\n",
       "  -22.857036140383283],\n",
       " [6826,\n",
       "  2,\n",
       "  1.0,\n",
       "  0.4238,\n",
       "  -18.0060962991979,\n",
       "  16.415367433633303,\n",
       "  -22.967080487709083],\n",
       " [6827,\n",
       "  2,\n",
       "  1.0,\n",
       "  0.4238,\n",
       "  -16.84051458825421,\n",
       "  17.530415510626934,\n",
       "  -23.221470740064508]]"
      ]
     },
     "execution_count": 16,
     "metadata": {},
     "output_type": "execute_result"
    }
   ],
   "source": [
    "newConfigWater[:3]"
   ]
  },
  {
   "cell_type": "code",
   "execution_count": 17,
   "metadata": {},
   "outputs": [],
   "source": [
    "newConfigWaterBonds = []\n",
    "countBound = 1\n",
    "for i in list(range(0,len(newConfigWater),3)):\n",
    "                                             #Oxygen               Hydrogen\n",
    "    newConfigWaterBonds.append([countBound,1,newConfigWater[i][0], newConfigWater[i+1][0]])\n",
    "    countBound+=1\n",
    "    newConfigWaterBonds.append([countBound,1,newConfigWater[i][0], newConfigWater[i+2][0]])\n",
    "    countBound+=1"
   ]
  },
  {
   "cell_type": "code",
   "execution_count": 18,
   "metadata": {},
   "outputs": [
    {
     "data": {
      "text/plain": [
       "6750"
      ]
     },
     "execution_count": 18,
     "metadata": {},
     "output_type": "execute_result"
    }
   ],
   "source": [
    "len(newConfigWaterBonds)"
   ]
  },
  {
   "cell_type": "code",
   "execution_count": 19,
   "metadata": {},
   "outputs": [
    {
     "data": {
      "text/plain": [
       "[1, 1, 6825, 6826]"
      ]
     },
     "execution_count": 19,
     "metadata": {},
     "output_type": "execute_result"
    }
   ],
   "source": [
    "newConfigWaterBonds[0]"
   ]
  },
  {
   "cell_type": "code",
   "execution_count": 20,
   "metadata": {},
   "outputs": [],
   "source": [
    "newConfigWaterAngle = []\n",
    "countAngle = 1\n",
    "for i in list(range(0,len(newConfigWater),3)):\n",
    "                                             #Oxygen               Hydrogen\n",
    "    newConfigWaterAngle.append([countAngle, 1, newConfigWater[i+1][0],newConfigWater[i][0], newConfigWater[i+2][0]])\n",
    "    countAngle+=1\n"
   ]
  },
  {
   "cell_type": "code",
   "execution_count": 21,
   "metadata": {},
   "outputs": [
    {
     "data": {
      "text/plain": [
       "3375"
      ]
     },
     "execution_count": 21,
     "metadata": {},
     "output_type": "execute_result"
    }
   ],
   "source": [
    "len(newConfigWaterAngle)"
   ]
  },
  {
   "cell_type": "code",
   "execution_count": 22,
   "metadata": {},
   "outputs": [],
   "source": [
    "\n",
    "####HERE UP WALL\n",
    "\n",
    "newConfigWallUp = []\n",
    "indexWallUp = indexAtomWater\n",
    "indexWallMolUp = indexMolWater \n",
    "\n",
    "#for i in newConfigWall:                         \n",
    "for i in CONFIGWALL:                             \n",
    "    newConfigWallUp.append([indexWallUp, indexWallMolUp, i[2], i[3], i[4] + abs(WaterMaxX - WaterMinX) + (WallMaxX - WallMinX ) + 3 + 3, i[5], i[6]])\n",
    "    indexWallUp+=1\n",
    "\n",
    "    \n",
    "    \n",
    "    \n",
    "    "
   ]
  },
  {
   "cell_type": "markdown",
   "metadata": {},
   "source": [
    "# Join Water and Wall configuration"
   ]
  },
  {
   "cell_type": "code",
   "execution_count": 23,
   "metadata": {},
   "outputs": [],
   "source": [
    "with open('./createConfigFlat/1flat1roughSinWallsplusWater.data', \"w\") as configRough:\n",
    "    configRough.write('Flat wall plus 3375 water\\n\\n')\n",
    "    configRough.write('%d atoms\\n' % (totNewWallAtoms + len(newConfigWater) + len(newConfigWallUp) ))\n",
    "    configRough.write('4 atom types\\n')\n",
    "    configRough.write('%d bonds\\n' % (len(newConfigWaterBonds)))\n",
    "    configRough.write('1 bond types\\n')    \n",
    "    configRough.write('%d angles\\n' % (len(newConfigWaterAngle)))\n",
    "    configRough.write('1 angle types\\n')\n",
    "    configRough.write('\\n')    \n",
    "    \n",
    "    configRough.write('%f %f xlo xhi\\n' % (-Lnx, Lnx))\n",
    "    configRough.write('%f %f ylo yhi\\n' % (-Lny/2, Lny/2))\n",
    "    configRough.write('%f %f zlo zhi\\n' % (-Lnz/2, Lnz/2))\n",
    "    configRough.write('\\n')    \n",
    "    \n",
    "    configRough.write('Masses\\n\\n')\n",
    "    configRough.write('1 1.008\\n')\n",
    "    configRough.write('2 15.9994\\n')\n",
    "    configRough.write('3 1\\n')\n",
    "    configRough.write('4 1\\n')\n",
    "    configRough.write('\\n')  \n",
    "    \n",
    "    configRough.write('Pair Coeffs\\n\\n')  \n",
    "    configRough.write('1 0 0\\n')  \n",
    "    configRough.write('2 0.1553 3.166\\n')  \n",
    "    configRough.write('3 0 0\\n')      \n",
    "    configRough.write('4 0 0\\n')      \n",
    "    configRough.write('\\n')      \n",
    "    \n",
    "    configRough.write('Bond Coeffs\\n\\n')      \n",
    "    configRough.write('1 450 1\\n\\n')  \n",
    "\n",
    "    configRough.write('Angle Coeffs\\n\\n')      \n",
    "    configRough.write('1 450 109.47 0 0\\n')          \n",
    "    configRough.write('\\n')      \n",
    "    \n",
    "    configRough.write('Atoms\\n\\n')    \n",
    "    for i in newConfigWall:\n",
    "        configRough.write('%d %d %d %f %f %f %f\\n' % (i[0], i[1], i[2], i[3], i[4], i[5], i[6]))\n",
    "    for i in newConfigWater:\n",
    "        configRough.write('%d %d %d %f %f %f %f\\n' % (i[0], i[1], i[2], i[3], i[4], i[5], i[6]))\n",
    "    for i in newConfigWallUp:\n",
    "        configRough.write('%d %d %d %f %f %f %f\\n' % (i[0], i[1], i[2], i[3], i[4], i[5], i[6]))    \n",
    "    configRough.write('\\n')     \n",
    "        \n",
    "    configRough.write('Velocities\\n\\n')    \n",
    "    for i in range(totNewWallAtoms + len(newConfigWater) +len(newConfigWallUp)):\n",
    "        configRough.write('%d 0.0 0.0 0.0 \\n' % (i+1))    \n",
    "    configRough.write('\\n')      \n",
    "                          \n",
    "    configRough.write('Bonds\\n\\n')    \n",
    "    for i in newConfigWaterBonds:\n",
    "        configRough.write('%d %d %d %d\\n' % (i[0], i[1], i[2], i[3]))                              \n",
    "    configRough.write('\\n')      \n",
    "    \n",
    "    configRough.write('Angles\\n')    \n",
    "    for i in newConfigWaterAngle:\n",
    "        configRough.write('\\n')    \n",
    "        configRough.write('%d %d %d %d %d' % (i[0], i[1], i[2], i[3], i[4]))                              \n",
    "                          \n",
    "configRough.close()    \n",
    "\n"
   ]
  },
  {
   "cell_type": "code",
   "execution_count": 47,
   "metadata": {},
   "outputs": [
    {
     "data": {
      "text/plain": [
       "150.0"
      ]
     },
     "execution_count": 47,
     "metadata": {},
     "output_type": "execute_result"
    }
   ],
   "source": [
    "15/0.1\n"
   ]
  },
  {
   "cell_type": "code",
   "execution_count": null,
   "metadata": {},
   "outputs": [],
   "source": []
  },
  {
   "cell_type": "code",
   "execution_count": null,
   "metadata": {},
   "outputs": [],
   "source": []
  },
  {
   "cell_type": "code",
   "execution_count": null,
   "metadata": {},
   "outputs": [],
   "source": []
  },
  {
   "cell_type": "code",
   "execution_count": null,
   "metadata": {},
   "outputs": [],
   "source": []
  },
  {
   "cell_type": "code",
   "execution_count": 23,
   "metadata": {},
   "outputs": [],
   "source": [
    "# with open('./createConfigFlat/continuation-bridge-k00-onlywall_flat_smaller.data', \"w\") as configRough:\n",
    "#     newIndex = 1\n",
    "#     for i in config:\n",
    "#         x = i[4]\n",
    "#         y = i[5]\n",
    "#         z = i[6]\n",
    "#         if( (abs(y) < Lny/2) and (abs(z) < Lnz/2) ):\n",
    "#             newIndex +=1\n",
    "#         else:\n",
    "#             continue    \n",
    "#     configRough.write('LAMMPS data file\\n')\n",
    "#     configRough.write('%d atoms\\n' % (newIndex - 1))\n",
    "#     configRough.write('2 bonds\\n')\n",
    "#     configRough.write('0 angles\\n')\n",
    "#     configRough.write('5 atom types\\n')\n",
    "#     configRough.write('0 bond types\\n')\n",
    "#     configRough.write('1 angle types\\n')\n",
    "#     configRough.write('-35.0 35.0 xlo xhi\\n')\n",
    "#     configRough.write('-35.0 35.0 ylo yhi\\n')\n",
    "#     configRough.write('-70.0 70.0 zlo zhi\\n')\n",
    "#     configRough.write('\\n')    \n",
    "#     configRough.write('Masses\\n\\n')\n",
    "#     configRough.write('1 1.008\\n')\n",
    "#     configRough.write('2 15.9994\\n')\n",
    "#     configRough.write('3 1\\n')\n",
    "#     configRough.write('4 1\\n')\n",
    "#     configRough.write('5 1.008\\n')\n",
    "#     configRough.write('\\n')  \n",
    "#     configRough.write('Atoms\\n\\n')    \n",
    "#     newIndex = 1\n",
    "#     for i in config:\n",
    "#         x = i[4]\n",
    "#         y = i[5]\n",
    "#         z = i[6]\n",
    "#         if((abs(y) < Lny/2) and (abs(z) < Lnz/2)):\n",
    "#             configRough.write('%d %d %d %f %f %f %f\\n' % (newIndex, i[1], i[2], i[3], i[4], i[5], i[6]))\n",
    "#             newIndex +=1\n",
    "#         else:\n",
    "#             continue\n",
    "# configRough.close()    \n",
    "\n"
   ]
  },
  {
   "cell_type": "code",
   "execution_count": null,
   "metadata": {},
   "outputs": [],
   "source": []
  },
  {
   "cell_type": "code",
   "execution_count": 24,
   "metadata": {},
   "outputs": [],
   "source": [
    "# with open('./createConfigFlat/continuation-bridge-k00-onlywall_flat_smaller.data', \"w\") as configRough:\n",
    "#     newIndex = 1\n",
    "#     for i in config:\n",
    "#         x = i[4]\n",
    "#         y = i[5]\n",
    "#         z = i[6]\n",
    "#         if( (abs(y) < Lny/2) and (abs(z) < Lnz/2) ):\n",
    "#             newIndex +=1\n",
    "#         else:\n",
    "#             continue    \n",
    "#     configRough.write('LAMMPS data file\\n')\n",
    "#     configRough.write('%d atoms\\n' % (newIndex - 1))\n",
    "#     configRough.write('2 bonds\\n')\n",
    "#     configRough.write('0 angles\\n')\n",
    "#     configRough.write('5 atom types\\n')\n",
    "#     configRough.write('0 bond types\\n')\n",
    "#     configRough.write('1 angle types\\n')d\n",
    "#     configRough.write('-35.0 35.0 xlo xhi\\n')\n",
    "#     configRough.write('-35.0 35.0 ylo yhi\\n')\n",
    "#     configRough.write('-70.0 70.0 zlo zhi\\n')\n",
    "#     configRough.write('\\n')    \n",
    "#     configRough.write('Masses\\n\\n')\n",
    "#     configRough.write('1 1.008\\n')\n",
    "#     configRough.write('2 15.9994\\n')\n",
    "#     configRough.write('3 1\\n')\n",
    "#     configRough.write('4 1\\n')\n",
    "#     configRough.write('5 1.008\\n')\n",
    "#     configRough.write('\\n')  \n",
    "#     configRough.write('Atoms\\n\\n')    \n",
    "#     newIndex = 1\n",
    "#     for i in config:\n",
    "#         x = i[4]\n",
    "#         y = i[5]\n",
    "#         z = i[6]\n",
    "#         if((abs(y) < Lny/2) and (abs(z) < Lnz/2)):\n",
    "#             configRough.write('%d %d %d %f %f %f %f\\n' % (newIndex, i[1], i[2], i[3], i[4], i[5], i[6]))\n",
    "#             newIndex +=1\n",
    "#         else:\n",
    "#             continue\n",
    "# configRough.close()    \n",
    "\n"
   ]
  },
  {
   "cell_type": "code",
   "execution_count": null,
   "metadata": {},
   "outputs": [],
   "source": []
  },
  {
   "cell_type": "code",
   "execution_count": null,
   "metadata": {},
   "outputs": [],
   "source": []
  },
  {
   "cell_type": "code",
   "execution_count": 7,
   "metadata": {},
   "outputs": [],
   "source": [
    "# with open('./continuation-bridge-k00-onlywall_rough_sin.data', \"w\") as configRough:\n",
    "#     newIndex = 1\n",
    "#     for i in config:\n",
    "#         x = i[4]\n",
    "#         y = i[5]\n",
    "#         if(x < sinRough(y, ny, alpha, delta)):\n",
    "#             newIndex +=1\n",
    "#         else:\n",
    "#             continue    \n",
    "#     configRough.write('LAMMPS data file\\n')\n",
    "#     configRough.write('%d atoms\\n' % (newIndex - 1))\n",
    "#     configRough.write('2 bonds\\n')\n",
    "#     configRough.write('0 angles\\n')\n",
    "#     configRough.write('5 atom types\\n')\n",
    "#     configRough.write('0 bond types\\n')\n",
    "#     configRough.write('1 angle types\\n')\n",
    "#     configRough.write('-70.0 70.0 xlo xhi\\n')\n",
    "#     configRough.write('-70.0 70.0 ylo yhi\\n')\n",
    "#     configRough.write('-70.0 70.0 zlo zhi\\n')\n",
    "#     configRough.write('\\n')    \n",
    "#     configRough.write('Masses\\n\\n')\n",
    "#     configRough.write('1 1.008\\n')\n",
    "#     configRough.write('2 15.9994\\n')\n",
    "#     configRough.write('3 1\\n')\n",
    "#     configRough.write('4 1\\n')\n",
    "#     configRough.write('5 1.008\\n')\n",
    "#     configRough.write('\\n')  \n",
    "#     configRough.write('Atoms\\n\\n')    \n",
    "#     newIndex = 1\n",
    "#     for i in config:\n",
    "#         x = i[4]\n",
    "#         y = i[5]\n",
    "#         if(x < sinRough(y, ny, alpha, delta)):\n",
    "#             configRough.write('%d %d %d %f %f %f %f\\n' % (newIndex, i[1], i[2], i[3], i[4], i[5], i[6]))\n",
    "#             newIndex +=1\n",
    "#         else:\n",
    "#             continue\n",
    "# configRough.close()    \n",
    "\n"
   ]
  },
  {
   "cell_type": "code",
   "execution_count": null,
   "metadata": {},
   "outputs": [],
   "source": []
  }
 ],
 "metadata": {
  "kernelspec": {
   "display_name": "Python 3",
   "language": "python",
   "name": "python3"
  },
  "language_info": {
   "codemirror_mode": {
    "name": "ipython",
    "version": 3
   },
   "file_extension": ".py",
   "mimetype": "text/x-python",
   "name": "python",
   "nbconvert_exporter": "python",
   "pygments_lexer": "ipython3",
   "version": "3.6.6"
  }
 },
 "nbformat": 4,
 "nbformat_minor": 2
}

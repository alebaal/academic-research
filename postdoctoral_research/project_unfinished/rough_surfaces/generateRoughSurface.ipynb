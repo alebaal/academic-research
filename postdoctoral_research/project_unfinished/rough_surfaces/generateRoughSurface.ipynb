{
 "cells": [
  {
   "cell_type": "code",
   "execution_count": 1,
   "metadata": {},
   "outputs": [],
   "source": [
    "import numpy as np\n",
    "import networkx as nx\n",
    "import math\n",
    "import matplotlib.pyplot as plt\n",
    "import glob\n",
    "import math\n",
    "import csv\n",
    "import pandas as pd\n",
    "from __future__ import division\n",
    "%matplotlib inline\n",
    "import random\n",
    "import itertools as it\n",
    "import multiprocessing as mp"
   ]
  },
  {
   "cell_type": "code",
   "execution_count": 2,
   "metadata": {},
   "outputs": [],
   "source": [
    "#read config file\n",
    "#config = pd.read_csv(\"./wall1newThickDone.dat\", names=['Index','mol','type','charge','x','y','z'], sep=' ')\n",
    "config = np.loadtxt(\"./wall1newThickDone.dat\")\n",
    "overlapConfigYZ = np.loadtxt(\"./wall1newThickDone.dat\")\n",
    "overlapConfigX = np.loadtxt(\"./wall1newThickDone.dat\")"
   ]
  },
  {
   "cell_type": "code",
   "execution_count": 3,
   "metadata": {},
   "outputs": [
    {
     "name": "stdout",
     "output_type": "stream",
     "text": [
      "68.07903\n",
      "24.288600000000006 137.39549 137.91813\n"
     ]
    }
   ],
   "source": [
    "#wall definitions\n",
    "WallLayer = 8.0828\n",
    "\n",
    "WallMaxX = max(config[:,4])\n",
    "WallMinX = min(config[:,4])\n",
    "WallMaxY = max(config[:,5])\n",
    "WallMinY = min(config[:,5])\n",
    "WallMaxZ = max(config[:,6])\n",
    "WallMinZ = min(config[:,6])\n",
    "WallErode = WallMaxX - 2*WallLayer\n",
    "\n",
    "#simulation Box\n",
    "L = 140\n",
    "\n",
    "WallDx = WallMaxX - WallMinX\n",
    "WallDy = WallMaxY - WallMinY\n",
    "WallDz = WallMaxZ - WallMinZ\n",
    "#Box definitions\n",
    "eps = 0.02\n",
    "BoxMaxX = WallMaxX + eps\n",
    "BoxMinX = WallMinX - eps\n",
    "BoxMaxY = WallMaxY + eps\n",
    "BoxMinY = WallMinY - eps\n",
    "BoxMaxZ = WallMaxZ + eps\n",
    "BoxMinZ = WallMinZ - eps\n",
    "BoxErode = WallErode - eps\n",
    "print(BoxMaxY)\n",
    "\n",
    "BoxDx = BoxMaxX - BoxMinX\n",
    "BoxDy = BoxMaxY - BoxMinY\n",
    "BoxDz = BoxMaxZ - BoxMinZ\n",
    "print(BoxDx, BoxDy, BoxDz)"
   ]
  },
  {
   "cell_type": "code",
   "execution_count": null,
   "metadata": {},
   "outputs": [],
   "source": []
  },
  {
   "cell_type": "code",
   "execution_count": 4,
   "metadata": {},
   "outputs": [
    {
     "name": "stdout",
     "output_type": "stream",
     "text": [
      "[3, 10, 10]\n",
      "8.096200000000001 13.739549 13.791813\n"
     ]
    }
   ],
   "source": [
    "#organizing atoms on list\n",
    "nBoxDivisionYZ = 10\n",
    "nBoxDivisionX  = 3\n",
    "lenBoxCellX = BoxDx/nBoxDivisionX\n",
    "lenBoxCellY = BoxDy/nBoxDivisionYZ\n",
    "lenBoxCellZ = BoxDz/nBoxDivisionYZ\n",
    "nCells = [nBoxDivisionX, nBoxDivisionYZ, nBoxDivisionYZ]\n",
    "print(nCells)\n",
    "print(lenBoxCellX, lenBoxCellY, lenBoxCellZ)"
   ]
  },
  {
   "cell_type": "code",
   "execution_count": 5,
   "metadata": {},
   "outputs": [
    {
     "name": "stdout",
     "output_type": "stream",
     "text": [
      "22400\n",
      "[1, 2, 3, 4, 5, 6, 7, 8, 9, 10]\n",
      "[22391, 22392, 22393, 22394, 22395, 22396, 22397, 22398, 22399, 22400]\n"
     ]
    }
   ],
   "source": [
    "atomsOnRoughness = []\n",
    "for j in config:\n",
    "    if ((j[4] < BoxMaxX) and (BoxErode < j[4])):\n",
    "        atomsOnRoughness.append(int(j[0]))\n",
    "    else:\n",
    "        continue\n",
    "print(len(atomsOnRoughness))\n",
    "print(atomsOnRoughness[:10])\n",
    "print(atomsOnRoughness[-10:])        \n",
    "        "
   ]
  },
  {
   "cell_type": "code",
   "execution_count": 6,
   "metadata": {},
   "outputs": [],
   "source": [
    "wallList = [[] for i in range(nBoxDivisionX*nBoxDivisionYZ**2)]\n",
    "for i in config:\n",
    "    x = int((i[4] + (abs(WallMinX)))/lenBoxCellX)   #Maybe I should change bottomWall to the real wall position\n",
    "    y = int((i[5] + WallDy*0.5)/lenBoxCellY) \n",
    "    z = int((i[6] + WallDz*0.5)/lenBoxCellZ) \n",
    "    s = (x*nBoxDivisionYZ**2) + (y*nBoxDivisionYZ) + z\n",
    "    wallList[s].append(i)"
   ]
  },
  {
   "cell_type": "code",
   "execution_count": 7,
   "metadata": {},
   "outputs": [
    {
     "data": {
      "text/plain": [
       "33152"
      ]
     },
     "execution_count": 7,
     "metadata": {},
     "output_type": "execute_result"
    }
   ],
   "source": [
    "sum = 0\n",
    "for s in range(nBoxDivisionYZ**2*nBoxDivisionX):\n",
    "    sum+=(len(wallList[s]))\n",
    "sum"
   ]
  },
  {
   "cell_type": "code",
   "execution_count": 8,
   "metadata": {},
   "outputs": [
    {
     "name": "stdout",
     "output_type": "stream",
     "text": [
      "4.048100000000001 6.8697745 6.8959065\n",
      "-62.446685499999994 -62.42409349999999\n",
      "-45.22050000000001 -29.028100000000002\n"
     ]
    }
   ],
   "source": [
    "BoxOverlapXdis = lenBoxCellX*0.5\n",
    "BoxOverlapYdis = lenBoxCellY*0.5\n",
    "BoxOverlapZdis = lenBoxCellZ*0.5\n",
    "print(BoxOverlapXdis, BoxOverlapYdis, BoxOverlapZdis)\n",
    "BoxOverlapYinf = BoxMinY + BoxOverlapYdis\n",
    "BoxOverlapZinf = BoxMinZ + BoxOverlapZdis\n",
    "print(BoxOverlapYinf, BoxOverlapZinf)\n",
    "BoxOverlapXinf = BoxMinX + BoxOverlapXdis\n",
    "BoxOverlapXsup = BoxMaxX - BoxOverlapXdis\n",
    "print(BoxOverlapXinf, BoxOverlapXsup)"
   ]
  },
  {
   "cell_type": "code",
   "execution_count": 9,
   "metadata": {},
   "outputs": [],
   "source": [
    "wallListBoarderYZ = [[] for i in range(nBoxDivisionYZ**2*nBoxDivisionX)]\n",
    "for i in overlapConfigYZ:\n",
    "    if((i[5] < BoxOverlapYinf) or (i[6] < BoxOverlapZinf)): #boundary condition here \n",
    "        if((i[5] < BoxOverlapYinf) and (i[6] > BoxOverlapZinf)):\n",
    "            y = int((i[5] + WallDy     - BoxOverlapYdis)/lenBoxCellY) # int((i[5] + BoxDy - BoxOverlapYdis)/lenBoxCellY)            \n",
    "            z = int((i[6] + WallDz*0.5 - BoxOverlapZdis)/lenBoxCellZ)\n",
    "            i[5] = i[5] + WallDy    \n",
    "        if((i[5] > BoxOverlapYinf) and (i[6] < BoxOverlapZinf)):\n",
    "            y = int((i[5] + WallDy*0.5 - BoxOverlapYdis)/lenBoxCellY) \n",
    "            z = int((i[6] + WallDz     - BoxOverlapZdis)/lenBoxCellZ)            \n",
    "            i[6] = i[6] + WallDz            \n",
    "        if((i[5] < BoxOverlapYinf) and (i[6] < BoxOverlapZinf)):                \n",
    "            y = int((i[5] + WallDy     - BoxOverlapYdis)/lenBoxCellY)     \n",
    "            z = int((i[6] + WallDz     - BoxOverlapZdis)/lenBoxCellZ)            \n",
    "            i[5] = i[5] + WallDy            \n",
    "            i[6] = i[6] + WallDz            \n",
    "    else:  \n",
    "        y = int((i[5] + WallDy*0.5 - BoxOverlapYdis)/lenBoxCellY) \n",
    "        z = int((i[6] + WallDz*0.5 - BoxOverlapZdis)/lenBoxCellZ)             \n",
    "\n",
    "    x = int((i[4] + (abs(WallMinX)))/lenBoxCellX)    \n",
    "    s = (x*nBoxDivisionYZ**2) + (y*nBoxDivisionYZ) + z\n",
    "#    if (int(i[0]) in [2689, 8513, 14379, 20866, 25131, 31618]):\n",
    "#        print(x,y,z,s,i[4:])                \n",
    "    wallListBoarderYZ[s].append(i) \n",
    "    "
   ]
  },
  {
   "cell_type": "code",
   "execution_count": 10,
   "metadata": {},
   "outputs": [],
   "source": [
    "wallListBoarderX = [[] for i in range(nBoxDivisionYZ**2*(nBoxDivisionX - 1))]\n",
    "for i in overlapConfigX:\n",
    "    if((i[4] > BoxOverlapXinf) and (i[4] < BoxOverlapXsup)):\n",
    "        x = int((i[4] + abs(WallMinX) - BoxOverlapXdis)/lenBoxCellX)    \n",
    "        y = int((i[5] + WallDy*0.5)/lenBoxCellY) \n",
    "        z = int((i[6] + WallDz*0.5)/lenBoxCellZ)     \n",
    "        s = (x*nBoxDivisionYZ**2) + (y*nBoxDivisionYZ) + z\n",
    "        wallListBoarderX[s].append(i)    "
   ]
  },
  {
   "cell_type": "code",
   "execution_count": 11,
   "metadata": {},
   "outputs": [
    {
     "data": {
      "text/plain": [
       "33152"
      ]
     },
     "execution_count": 11,
     "metadata": {},
     "output_type": "execute_result"
    }
   ],
   "source": [
    "sum = 0\n",
    "for s in range(nBoxDivisionYZ**2*nBoxDivisionX):\n",
    "    sum+=len(wallListBoarderYZ[s])\n",
    "sum"
   ]
  },
  {
   "cell_type": "code",
   "execution_count": 12,
   "metadata": {},
   "outputs": [
    {
     "data": {
      "text/plain": [
       "22400"
      ]
     },
     "execution_count": 12,
     "metadata": {},
     "output_type": "execute_result"
    }
   ],
   "source": [
    "sum = 0\n",
    "for s in range(nBoxDivisionYZ**2*(nBoxDivisionX - 1)):\n",
    "    sum+=len(wallListBoarderX[s])\n",
    "sum"
   ]
  },
  {
   "cell_type": "code",
   "execution_count": 13,
   "metadata": {},
   "outputs": [],
   "source": [
    "G = nx.Graph()"
   ]
  },
  {
   "cell_type": "code",
   "execution_count": 14,
   "metadata": {},
   "outputs": [],
   "source": [
    "G.add_nodes_from(config[:,0].astype(int))"
   ]
  },
  {
   "cell_type": "code",
   "execution_count": 15,
   "metadata": {},
   "outputs": [],
   "source": [
    "def calcDistance(cellAtoms):\n",
    "    cellEdges = []\n",
    "    threshold = 1.6\n",
    "    for pairAtoms in it.combinations(cellAtoms, 2):\n",
    "        if (int(i[0]) in [2689, 8513, 14379, 20866, 25131, 31618]):\n",
    "            print(pairAtoms[0][0], pairAtoms[1][0], np.linalg.norm(pairAtoms[0][4:] - pairAtoms[1][4:]))                \n",
    "        if (np.linalg.norm(pairAtoms[0][4:] - pairAtoms[1][4:]) < threshold):\n",
    "            cellEdges.append((int(pairAtoms[0][0]), int(pairAtoms[1][0])))\n",
    "        else:\n",
    "            continue\n",
    "    return cellEdges    "
   ]
  },
  {
   "cell_type": "code",
   "execution_count": 16,
   "metadata": {},
   "outputs": [],
   "source": [
    "pool = mp.Pool(processes=4)\n",
    "edges1 = pool.map(calcDistance, wallList)\n",
    "edges2 = pool.map(calcDistance, wallListBoarderYZ)\n",
    "edges3 = pool.map(calcDistance, wallListBoarderX)\n",
    "pool.close()"
   ]
  },
  {
   "cell_type": "code",
   "execution_count": 17,
   "metadata": {},
   "outputs": [],
   "source": [
    "edges1 = list(it.chain.from_iterable(edges1))\n",
    "edges2 = list(it.chain.from_iterable(edges2))\n",
    "edges3 = list(it.chain.from_iterable(edges3))"
   ]
  },
  {
   "cell_type": "code",
   "execution_count": 18,
   "metadata": {},
   "outputs": [],
   "source": [
    "G.add_edges_from(edges1)\n",
    "G.add_edges_from(edges2)\n",
    "G.add_edges_from(edges3)"
   ]
  },
  {
   "cell_type": "code",
   "execution_count": 19,
   "metadata": {},
   "outputs": [
    {
     "data": {
      "text/plain": [
       "[<matplotlib.lines.Line2D at 0x7f979055c048>]"
      ]
     },
     "execution_count": 19,
     "metadata": {},
     "output_type": "execute_result"
    },
    {
     "data": {
      "image/png": "[encoded data removed]",
      "text/plain": [
       "<Figure size 432x288 with 1 Axes>"
      ]
     },
     "metadata": {},
     "output_type": "display_data"
    }
   ],
   "source": [
    "sequence_degree = sorted([d for n, d in G.degree], reverse=True)\n",
    "aveDegree = np.mean(sequence_degree)\n",
    "#plt.hist(sequence_degree, bins = 5,normed = False)\n",
    "plt.plot(sequence_degree)"
   ]
  },
  {
   "cell_type": "code",
   "execution_count": 20,
   "metadata": {},
   "outputs": [],
   "source": [
    "degreeDelProb = [1, 0.75, 0.5, 0.25, 0.1]\n",
    "nAtomsRoughInit = len(atomsOnRoughness)\n",
    "\n",
    "nAtomsRoughUpdate = len(atomsOnRoughness)\n",
    "\n",
    "propTotAtomsDel = .6 #%\n",
    "propAtomsDel = 0\n",
    "\n",
    "while(propAtomsDel < propTotAtomsDel):\n",
    "    tryDelAtom = int(random.uniform(0, nAtomsRoughUpdate))\n",
    "    degree = G.degree(atomsOnRoughness[tryDelAtom])\n",
    "    if(degreeDelProb[degree] > random.uniform(0,1)):\n",
    "        G.remove_node(atomsOnRoughness[tryDelAtom])\n",
    "        del atomsOnRoughness[tryDelAtom]        \n",
    "        nAtomsRoughUpdate = len(atomsOnRoughness)\n",
    "        propAtomsDel = (nAtomsRoughInit - nAtomsRoughUpdate)/nAtomsRoughInit\n",
    "    else:\n",
    "        continue\n",
    "            \n",
    "        \n",
    "        "
   ]
  },
  {
   "cell_type": "code",
   "execution_count": 21,
   "metadata": {},
   "outputs": [],
   "source": [
    "G.remove_nodes_from(list(nx.isolates(G)))"
   ]
  },
  {
   "cell_type": "code",
   "execution_count": 22,
   "metadata": {},
   "outputs": [],
   "source": [
    "newG = max(nx.connected_component_subgraphs(G), key=len)"
   ]
  },
  {
   "cell_type": "code",
   "execution_count": 23,
   "metadata": {},
   "outputs": [],
   "source": [
    "with open('./continuation-bridge-k00-onlywall_rough_degree.data', \"w\") as configRough:\n",
    "    configRough.write('LAMMPS data file\\n')\n",
    "    configRough.write('%d atoms\\n' % (len(newG.nodes())))\n",
    "    configRough.write('2 bonds\\n')\n",
    "    configRough.write('0 angles\\n')\n",
    "    configRough.write('5 atom types\\n')\n",
    "    configRough.write('0 bond types\\n')\n",
    "    configRough.write('1 angle types\\n')\n",
    "    configRough.write('-70.0 70.0 xlo xhi\\n')\n",
    "    configRough.write('-70.0 70.0 ylo yhi\\n')\n",
    "    configRough.write('-70.0 70.0 zlo zhi\\n')\n",
    "    configRough.write('\\n')    \n",
    "    configRough.write('Masses\\n\\n')\n",
    "    configRough.write('1 1.008\\n')\n",
    "    configRough.write('2 15.9994\\n')\n",
    "    configRough.write('3 1\\n')\n",
    "    configRough.write('4 1\\n')\n",
    "    configRough.write('5 1.008\\n')\n",
    "    configRough.write('\\n')  \n",
    "    configRough.write('Atoms\\n\\n')    \n",
    "    newIndex = 1\n",
    "    for i in newG.nodes():\n",
    "        node = int(i)\n",
    "        configRough.write('%d %d %d %f %f %f %f\\n' % (newIndex, config[node-1][1], config[node-1][2], config[node-1][3], config[node-1][4], config[node-1][5], config[node-1][6]))\n",
    "        newIndex +=1\n",
    "configRough.close()       "
   ]
  },
  {
   "cell_type": "code",
   "execution_count": 24,
   "metadata": {},
   "outputs": [
    {
     "data": {
      "text/plain": [
       "[<matplotlib.lines.Line2D at 0x7f978fe88ba8>]"
      ]
     },
     "execution_count": 24,
     "metadata": {},
     "output_type": "execute_result"
    },
    {
     "data": {
      "image/png": "[encoded data removed]",
      "text/plain": [
       "<Figure size 432x288 with 1 Axes>"
      ]
     },
     "metadata": {},
     "output_type": "display_data"
    }
   ],
   "source": [
    "sequence_degree = sorted([d for n, d in G.degree], reverse=True)\n",
    "aveDegree = np.mean(sequence_degree)\n",
    "#plt.hist(sequence_degree, bins = 5,normed = False)\n",
    "plt.plot(sequence_degree)"
   ]
  },
  {
   "cell_type": "markdown",
   "metadata": {},
   "source": [
    "# Rough Sin"
   ]
  },
  {
   "cell_type": "code",
   "execution_count": 25,
   "metadata": {},
   "outputs": [],
   "source": [
    "def sinRough (y, alpha, ny):\n",
    "    return (BoxMaxX - alpha*(BoxMaxX - BoxErode)/2) + alpha*((BoxMaxX - BoxErode)/2)*np.sin((2*np.pi*(ny)/L)*y)\n",
    "def sinSinRough (y, z, nx, ny, alpha):\n",
    "    return (BoxMaxX - alpha*(BoxMaxX - BoxErode)/2) + alpha*((BoxMaxX - BoxErode)/2)*np.sin(2*np.pi*ny*y/L)*np.sin(2*np.pi*nz*z/L)"
   ]
  },
  {
   "cell_type": "code",
   "execution_count": 26,
   "metadata": {},
   "outputs": [
    {
     "data": {
      "image/png": "[encoded data removed]",
      "text/plain": [
       "<Figure size 720x720 with 1 Axes>"
      ]
     },
     "metadata": {},
     "output_type": "display_data"
    }
   ],
   "source": [
    "alpha =1\n",
    "nz = ny = 5\n",
    "x=np.arange(-70,70, 0.01)\n",
    "y=sinRough(x, alpha, ny)\n",
    "plt.figure(figsize=(10,10))\n",
    "plt.plot(x, y , '--r', label = 'roughnness')\n",
    "plt.plot(x, np.asarray([   WallMaxX       for i in range(len(x))]), 'k', label = 'top wall')\n",
    "plt.plot(x, np.asarray([   WallMinX    for i in range(len(x))]), 'k', label = 'bottom wall')\n",
    "plt.plot(x, np.asarray([BoxErode for i in range(len(x))]), 'k-.', label = 'limit layer rough')\n",
    "plt.ylim(-L/2,L/2)\n",
    "plt.xlim(-L/2,L/2)\n",
    "plt.legend()\n",
    "plt.tight_layout()"
   ]
  },
  {
   "cell_type": "code",
   "execution_count": null,
   "metadata": {},
   "outputs": [],
   "source": []
  },
  {
   "cell_type": "code",
   "execution_count": 27,
   "metadata": {},
   "outputs": [],
   "source": [
    "with open('./continuation-bridge-k00-onlywall_rough_sin.data', \"w\") as configRough:\n",
    "    newIndex = 1\n",
    "    for i in config:\n",
    "        x = i[4]\n",
    "        y = i[5]\n",
    "        if(x <= sinRough(y, alpha, ny)):\n",
    "            newIndex +=1\n",
    "        else:\n",
    "            continue    \n",
    "    configRough.write('LAMMPS data file\\n')\n",
    "    configRough.write('%d atoms\\n' % (newIndex - 1))\n",
    "    configRough.write('2 bonds\\n')\n",
    "    configRough.write('0 angles\\n')\n",
    "    configRough.write('5 atom types\\n')\n",
    "    configRough.write('0 bond types\\n')\n",
    "    configRough.write('1 angle types\\n')\n",
    "    configRough.write('-70.0 70.0 xlo xhi\\n')\n",
    "    configRough.write('-70.0 70.0 ylo yhi\\n')\n",
    "    configRough.write('-70.0 70.0 zlo zhi\\n')\n",
    "    configRough.write('\\n')    \n",
    "    configRough.write('Masses\\n\\n')\n",
    "    configRough.write('1 1.008\\n')\n",
    "    configRough.write('2 15.9994\\n')\n",
    "    configRough.write('3 1\\n')\n",
    "    configRough.write('4 1\\n')\n",
    "    configRough.write('5 1.008\\n')\n",
    "    configRough.write('\\n')  \n",
    "    configRough.write('Atoms\\n\\n')    \n",
    "    newIndex = 1\n",
    "    for i in config:\n",
    "        x = i[4]\n",
    "        y = i[5]\n",
    "        if(x <= sinRough(y, alpha, ny)):\n",
    "            configRough.write('%d %d %d %f %f %f %f\\n' % (newIndex, i[1], i[2], i[3], i[4], i[5], i[6]))\n",
    "            newIndex +=1\n",
    "        else:\n",
    "            continue\n",
    "configRough.close()    \n",
    "\n"
   ]
  },
  {
   "cell_type": "code",
   "execution_count": 31,
   "metadata": {},
   "outputs": [
    {
     "data": {
      "image/png": "[encoded data removed]",
      "text/plain": [
       "<Figure size 720x720 with 1 Axes>"
      ]
     },
     "metadata": {},
     "output_type": "display_data"
    }
   ],
   "source": [
    "alpha =1\n",
    "nz = ny = 5\n",
    "y=np.arange(-70,70, 0.01)\n",
    "x=sinSinRough(y, 35, ny, nz, alpha)\n",
    "plt.figure(figsize=(10,10))\n",
    "plt.plot(y, x , '--r', label = 'roughnness')\n",
    "plt.plot(y, np.asarray([   WallMaxX       for i in range(len(y))]), 'k', label = 'top wall')\n",
    "plt.plot(y, np.asarray([   WallMinX    for i in range(len(y))]), 'k', label = 'bottom wall')\n",
    "plt.plot(y, np.asarray([BoxErode for i in range(len(y))]), 'k-.', label = 'limit layer rough')\n",
    "plt.ylim(-L/2,L/2)\n",
    "plt.xlim(-L/2,L/2)\n",
    "plt.legend()\n",
    "plt.tight_layout()"
   ]
  },
  {
   "cell_type": "code",
   "execution_count": 34,
   "metadata": {},
   "outputs": [],
   "source": [
    "with open('./continuation-bridge-k00-onlywall_rough_sinsin.data', \"w\") as configRough:\n",
    "    newIndex = 1\n",
    "    for i in config:\n",
    "        x = i[4]\n",
    "        y = i[5]\n",
    "        z = i[6]\n",
    "        if(x <= sinSinRough(y, z, ny, nz, alpha)):\n",
    "            newIndex +=1\n",
    "        else:\n",
    "            continue    \n",
    "    configRough.write('LAMMPS data file\\n')\n",
    "    configRough.write('%d atoms\\n' % (newIndex - 1))\n",
    "    configRough.write('2 bonds\\n')\n",
    "    configRough.write('0 angles\\n')\n",
    "    configRough.write('5 atom types\\n')\n",
    "    configRough.write('0 bond types\\n')\n",
    "    configRough.write('1 angle types\\n')\n",
    "    configRough.write('-70.0 70.0 xlo xhi\\n')\n",
    "    configRough.write('-70.0 70.0 ylo yhi\\n')\n",
    "    configRough.write('-70.0 70.0 zlo zhi\\n')\n",
    "    configRough.write('\\n')    \n",
    "    configRough.write('Masses\\n\\n')\n",
    "    configRough.write('1 1.008\\n')\n",
    "    configRough.write('2 15.9994\\n')\n",
    "    configRough.write('3 1\\n')\n",
    "    configRough.write('4 1\\n')\n",
    "    configRough.write('5 1.008\\n')\n",
    "    configRough.write('\\n')  \n",
    "    configRough.write('Atoms\\n\\n')    \n",
    "    newIndex = 1\n",
    "    for i in config:\n",
    "        x = i[4]\n",
    "        y = i[5]\n",
    "        z = i[6]\n",
    "        if(x < sinSinRough(y, z, ny, nz, alpha)):\n",
    "            configRough.write('%d %d %d %f %f %f %f\\n' % (newIndex, i[1], i[2], i[3], i[4], i[5], i[6]))\n",
    "            newIndex +=1\n",
    "        else:\n",
    "            continue\n",
    "configRough.close()    \n",
    "\n"
   ]
  },
  {
   "cell_type": "code",
   "execution_count": null,
   "metadata": {},
   "outputs": [],
   "source": []
  }
 ],
 "metadata": {
  "kernelspec": {
   "display_name": "Python 3",
   "language": "python",
   "name": "python3"
  },
  "language_info": {
   "codemirror_mode": {
    "name": "ipython",
    "version": 3
   },
   "file_extension": ".py",
   "mimetype": "text/x-python",
   "name": "python",
   "nbconvert_exporter": "python",
   "pygments_lexer": "ipython3",
   "version": "3.6.5"
  }
 },
 "nbformat": 4,
 "nbformat_minor": 2
}

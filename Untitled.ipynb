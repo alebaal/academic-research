{
 "cells": [
  {
   "cell_type": "markdown",
   "metadata": {},
   "source": [
    "# Description\n",
    "This repository contain the code I have developed on my PhD and Postdoctoral research.\n",
    "\n",
    "# Folders\n",
    "## alexandre_resume\n",
    "Find here my résumé. It was created on Overleaf, and it's based on this [Template](https://pt.overleaf.com/latex/templates/altacv-nicolasomar-fork/htfpmrwhbwpw).\n",
    "Other plataforms where you can find me:\n",
    "- [Curriculum Lattes](http://lattes.cnpq.br/3747643111194975)\n",
    "- [Linkedin](https://www.linkedin.com/in/alexandre-b-almeida-37aa7212a/)\n",
    "\n",
    "## oral_presentation_EOSBF_2018\n",
    "Find here the .tex and .pdf files from my oral presentation for EOSBF 2018 conference.\n",
    "\n",
    "## papers\n",
    "Find here all my publications with its support information.\n",
    "\n",
    "- 2013 - [Crackling sound generation during the formation of liquid bridges: A lattice gas model](https://www.sciencedirect.com/science/article/pii/S0378437113002719)\n",
    "- 2015 - [Validation of Capillarity Theory at the Nanometer Scale by Atomistic Computer Simulations of Water Droplets and Bridges in Contact with Hydrophobic and Hydrophilic Surfaces](https://pubs.acs.org/doi/10.1021/acs.jpcc.5b10377)\n",
    "- 2018 - [Validation of Capillarity Theory at the Nanometer Scale. II: Stability and Rupture of Water Capillary Bridges in Contact with Hydrophobic and Hydrophilic Surfaces](https://pubs.acs.org/doi/10.1021/acs.jpcc.7b08577)\n",
    "- 2021 - [How Small Is Too Small for the Capillarity Theory?](https://pubs.acs.org/doi/10.1021/acs.jpcc.0c11140)\n",
    "\n",
    "## postdoctoral_project_proposal\n",
    "Find here the .tex and .pdf files from my post-doctoral project proposal to FAPESP.\n",
    "\n",
    "## poster_presentation_statphys27\n",
    "Find here the .tex and .pdf files from my poster presentation for STATPHYS27 conference.\n",
    "\n",
    "## thesis\n",
    "Find here the .pdf from my thesis, and from the presentation of my thesis defense."
   ]
  },
  {
   "cell_type": "code",
   "execution_count": null,
   "metadata": {},
   "outputs": [],
   "source": []
  }
 ],
 "metadata": {
  "kernelspec": {
   "display_name": "Python 3",
   "language": "python",
   "name": "python3"
  },
  "language_info": {
   "codemirror_mode": {
    "name": "ipython",
    "version": 3
   },
   "file_extension": ".py",
   "mimetype": "text/x-python",
   "name": "python",
   "nbconvert_exporter": "python",
   "pygments_lexer": "ipython3",
   "version": "3.8.3"
  }
 },
 "nbformat": 4,
 "nbformat_minor": 4
}
